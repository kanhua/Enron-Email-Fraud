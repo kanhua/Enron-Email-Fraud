{
 "cells": [
  {
   "cell_type": "markdown",
   "metadata": {},
   "source": [
    "# Identifying Fraud from Enron Email\n",
    "The aim of this project to identify person of interest (poi) in Enron scandal from a given dataset.\n",
    "Original dataset and starter's code can be downloaded from [this github repository](https://github.com/udacity/ud120-projects.git).\n",
    "\n",
    "The analysis is performed with the following procedure. We start with an exploratory analysis and then we clean the dataset based on some observations. After that, we add some new features into the dataset. Finally, we select features and run a couple of machine learning algrithms to identify ```poi```."
   ]
  },
  {
   "cell_type": "markdown",
   "metadata": {},
   "source": [
    "## Table of contents\n",
    "\n",
    "[Exploratory Analysis](#Exploratory-Analysis)\n",
    "\n",
    "[Removing outliers](#Removing-outliers)\n",
    "\n",
    "[Selecting features manually](#Selecting-features-manually)\n",
    "\n",
    "[Engineering new features](#Engineering-new-features)\n",
    "\n",
    "[Feature Selection](#Feature-selection)\n",
    "\n",
    "[Models of classification](#Models-of-classification)\n",
    "\n",
    "[More details on the validation of the models](#More-details-on-the-validation-of-the-models)\n",
    "\n",
    "[Conclusion](#Conclusion)"
   ]
  },
  {
   "cell_type": "markdown",
   "metadata": {},
   "source": [
    "## About this implementation\n",
    "This implementation takes a slightly different approach compared with the starter's code. We first convert the raw data file ```final_project_dataset.pkl``` into a pandas dataframe object. Most of the exploratory analysis and operations of this dataset were performed using pandas library. This ipython notebook was tested using python 3.4.\n",
    "\n",
    "```final_project_dataset.pkl```: the original dataset. \n",
    "\n",
    "```scoring.py```: this file contains the function for evaluating the classification results.\n",
    "- ```calc_score()```: this function uses the same method as ```test_classifier``` in the starter's code to evalulate precision, recall and f1 scores.\n",
    "\n",
    "```preprocess_data.py```: this file contains the functions that do the preprocessing of the raw data.\n",
    "- ```pkl_to_df()```: Read the raw pkl file and convert the contents in the pkl file into a python dataframe.\n",
    "- ```extract_df()```: Return the features and labels in the dataframe as numpy arrays.\n",
    "- ```FeatureSel```: A class that selects the features using ```SelectKBest``` and ```PCA``` in ```sklearn```.\n",
    "- ```add_feature()```: This function takes logarithms of the financial features.\n",
    "\n",
    "```poi_id.py```: the mail file that does the classification. This is the final submission file for the project.\n"
   ]
  },
  {
   "cell_type": "code",
   "execution_count": 1,
   "metadata": {},
   "outputs": [],
   "source": [
    "%matplotlib inline\n",
    "import pandas as pd\n",
    "import numpy as np\n",
    "import matplotlib.pyplot as plt\n",
    "import pickle\n",
    "import copy\n",
    "\n",
    "from sklearn.svm import LinearSVC\n",
    "from sklearn.preprocessing import scale,StandardScaler,Imputer\n",
    "from sklearn.pipeline import Pipeline\n",
    "from sklearn.naive_bayes import GaussianNB\n",
    "from sklearn.linear_model import RidgeClassifier\n",
    "from sklearn.ensemble import RandomForestClassifier, GradientBoostingClassifier,AdaBoostClassifier\n",
    "from sklearn.feature_selection import SelectKBest\n",
    "from sklearn.decomposition import PCA\n",
    "from sklearn.grid_search import GridSearchCV\n",
    "\n",
    "from scoring import calc_score\n",
    "from preprocess_data import pkl_to_df,extract_df,linearsvc_outlier_rm,FeatureSel,add_features"
   ]
  },
  {
   "cell_type": "markdown",
   "metadata": {},
   "source": [
    "## Exploratory Analysis\n",
    "In this section, we loads the data and explore some basic information of this dataset. Since the values in the feature *\"email_address\"* are string, we will exclude this feature throughout our analysis."
   ]
  },
  {
   "cell_type": "code",
   "execution_count": 2,
   "metadata": {},
   "outputs": [],
   "source": [
    "# Load the dataset and convert it to a pandas dataframe\n",
    "df=pkl_to_df(rows_to_remove=[],cols_to_remove=[\"email_address\"])\n",
    "df=df.convert_objects(convert_numeric=True)"
   ]
  },
  {
   "cell_type": "markdown",
   "metadata": {},
   "source": [
    "#### Dimension of the data"
   ]
  },
  {
   "cell_type": "code",
   "execution_count": 3,
   "metadata": {},
   "outputs": [
    {
     "data": {
      "text/plain": [
       "(146, 20)"
      ]
     },
     "execution_count": 3,
     "output_type": "execute_result",
     "metadata": {}
    }
   ],
   "source": [
    "df.shape"
   ]
  },
  {
   "cell_type": "code",
   "execution_count": 4,
   "metadata": {},
   "outputs": [
    {
     "data": {
      "text/plain": [
       "Index(['bonus', 'deferral_payments', 'deferred_income', 'director_fees',\n",
       "       'exercised_stock_options', 'expenses', 'from_messages',\n",
       "       'from_poi_to_this_person', 'from_this_person_to_poi', 'loan_advances',\n",
       "       'long_term_incentive', 'other', 'poi', 'restricted_stock',\n",
       "       'restricted_stock_deferred', 'salary', 'shared_receipt_with_poi',\n",
       "       'to_messages', 'total_payments', 'total_stock_value'],\n",
       "      dtype='object')"
      ]
     },
     "execution_count": 4,
     "output_type": "execute_result",
     "metadata": {}
    }
   ],
   "source": [
    "df.columns"
   ]
  },
  {
   "cell_type": "markdown",
   "metadata": {},
   "source": [
    "This data set has 145 entries and 21 features, including ```poi```. Note that we have already excluded \"email_address\" in the dataframe ```df```."
   ]
  },
  {
   "cell_type": "markdown",
   "metadata": {},
   "source": [
    "#### Statistics of dependent variable ```poi```\n",
    "We now use ```describe()``` function to explore the summary of the feature ```poi```:"
   ]
  },
  {
   "cell_type": "code",
   "execution_count": 5,
   "metadata": {},
   "outputs": [
    {
     "data": {
      "text/plain": [
       "count          146\n",
       "mean     0.1232877\n",
       "std      0.3298989\n",
       "min          False\n",
       "25%              0\n",
       "50%              0\n",
       "75%              0\n",
       "max           True\n",
       "Name: poi, dtype: object"
      ]
     },
     "execution_count": 5,
     "output_type": "execute_result",
     "metadata": {}
    }
   ],
   "source": [
    "df[\"poi\"].describe()"
   ]
  },
  {
   "cell_type": "markdown",
   "metadata": {},
   "source": [
    "The mean value indicates that only 12.4% of ```poi``` is ```True```. In the above result, ```count``` is the number of total non-NaN values. The ```count``` of ```poi``` equals to the total rows, showing that every row has a ```poi``` value."
   ]
  },
  {
   "cell_type": "markdown",
   "metadata": {},
   "source": [
    "#### NaN in each feature\n",
    "We can then use ```transpose()``` and ```count``` to explore the ratio of non-NaN values in each feature: "
   ]
  },
  {
   "cell_type": "code",
   "execution_count": 6,
   "metadata": {},
   "outputs": [
    {
     "data": {
      "text/plain": [
       "bonus                         0.5616438\n",
       "deferral_payments             0.2671233\n",
       "deferred_income               0.3356164\n",
       "director_fees                 0.1164384\n",
       "exercised_stock_options       0.6986301\n",
       "expenses                      0.6506849\n",
       "from_messages                 0.5890411\n",
       "from_poi_to_this_person       0.5890411\n",
       "from_this_person_to_poi       0.5890411\n",
       "loan_advances                0.02739726\n",
       "long_term_incentive           0.4520548\n",
       "other                         0.6369863\n",
       "poi                                   1\n",
       "restricted_stock              0.7534247\n",
       "restricted_stock_deferred     0.1232877\n",
       "salary                        0.6506849\n",
       "shared_receipt_with_poi       0.5890411\n",
       "to_messages                   0.5890411\n",
       "total_payments                0.8561644\n",
       "total_stock_value             0.8630137\n",
       "Name: count, dtype: object"
      ]
     },
     "execution_count": 6,
     "output_type": "execute_result",
     "metadata": {}
    }
   ],
   "source": [
    "df.describe().transpose()[\"count\"]/df.shape[0]"
   ]
  },
  {
   "cell_type": "markdown",
   "metadata": {},
   "source": [
    "This result shows that every feature has NaN values except ```poi```. The feature ```loan_advances``` has the lowest ratio of non-NaN data, which is only 2%. In the following analysis, we will treat these NaN as zero."
   ]
  },
  {
   "cell_type": "markdown",
   "metadata": {},
   "source": [
    "## Using random forests to classify the raw dataset\n",
    "We now set up a random forests classifier to test the results of the classificaion at each stage of data preprocessing."
   ]
  },
  {
   "cell_type": "code",
   "execution_count": 7,
   "metadata": {},
   "outputs": [
    {
     "name": "stdout",
     "output_type": "stream",
     "text": [
      "precision: 0.30944625407166126\n",
      "recall: 0.095\n",
      "f1: 0.14537107880642694\n"
     ]
    }
   ],
   "source": [
    "rf_dict=[] # a list of dictionary that stores the results\n",
    "rf=RandomForestClassifier()\n",
    "df.fillna(0,inplace=True)\n",
    "X,y,_=extract_df(df)\n",
    "score=calc_score(X,y,rf)\n",
    "score_dict={\"data\":\"raw\",\"dataframe\":\"df\"}\n",
    "score_dict.update(score)\n",
    "rf_dict.append(score_dict)"
   ]
  },
  {
   "cell_type": "markdown",
   "metadata": {},
   "source": [
    "## Removing outliers"
   ]
  },
  {
   "cell_type": "markdown",
   "metadata": {},
   "source": [
    "In this section, we will remove the data points that may not be appropriate to include for further analysis.\n",
    "As discussed in the mini-project of the course, the dataset includes an entry that is the total of the financial features. Therefore we should remove this entry *TOTAL* before further analyzing the data. Also, we found that all the features of *LOCKHART EUGENE E* are NaN except ```poi```. Thus it makes sense to remove this data entry as well."
   ]
  },
  {
   "cell_type": "code",
   "execution_count": 8,
   "metadata": {},
   "outputs": [
    {
     "data": {
      "text/plain": [
       "bonus                            0\n",
       "deferral_payments                0\n",
       "deferred_income                  0\n",
       "director_fees                    0\n",
       "exercised_stock_options          0\n",
       "expenses                         0\n",
       "from_messages                    0\n",
       "from_poi_to_this_person          0\n",
       "from_this_person_to_poi          0\n",
       "loan_advances                    0\n",
       "long_term_incentive              0\n",
       "other                            0\n",
       "poi                          False\n",
       "restricted_stock                 0\n",
       "restricted_stock_deferred        0\n",
       "salary                           0\n",
       "shared_receipt_with_poi          0\n",
       "to_messages                      0\n",
       "total_payments                   0\n",
       "total_stock_value                0\n",
       "Name: LOCKHART EUGENE E, dtype: object"
      ]
     },
     "execution_count": 8,
     "output_type": "execute_result",
     "metadata": {}
    }
   ],
   "source": [
    "df.loc[\"LOCKHART EUGENE E\",:]"
   ]
  },
  {
   "cell_type": "markdown",
   "metadata": {},
   "source": [
    "Here we will remove both *TOTAL*,*LOCKHART EUGENE E* and see how it affect the results of random forests classifier."
   ]
  },
  {
   "cell_type": "code",
   "execution_count": 9,
   "metadata": {},
   "outputs": [
    {
     "name": "stdout",
     "output_type": "stream",
     "text": [
      "precision: 0.3614649681528662\n",
      "recall: 0.1135\n",
      "f1: 0.17275494672754946\n"
     ]
    }
   ],
   "source": [
    "rows_to_remove=[\"TOTAL\",\"LOCKHART EUGENE E\"]\n",
    "ro_df=pkl_to_df(rows_to_remove=rows_to_remove)\n",
    "ro_df=ro_df.convert_objects(convert_numeric=True)\n",
    "X,y,_=extract_df(ro_df.fillna(0))\n",
    "score=calc_score(X,y,rf)\n",
    "score_dict={\"data\":\"removing outlier manually\",\"dataframe\":\"ro_df\"}\n",
    "score_dict.update(score)\n",
    "rf_dict.append(score_dict)"
   ]
  },
  {
   "cell_type": "markdown",
   "metadata": {},
   "source": [
    "This result shows that all the scores slightly improved after the outliters are removed."
   ]
  },
  {
   "cell_type": "markdown",
   "metadata": {},
   "source": [
    "## Selecting features manually"
   ]
  },
  {
   "cell_type": "markdown",
   "metadata": {},
   "source": [
    "We noticed that the features ```total_payments``` and ```total_stock_value``` are the sum of the features related to payments and stock values, respectively. These two features can be removed if we use linear regression or similar algorithms, since they can cause multicollinearity. However, we will not remove these two features because we will run univariate feature selection and principle component analysis to select important features for training our model."
   ]
  },
  {
   "cell_type": "code",
   "execution_count": 10,
   "metadata": {},
   "outputs": [
    {
     "name": "stdout",
     "output_type": "stream",
     "text": [
      "precision: 0.37925445705024313\n",
      "recall: 0.117\n",
      "f1: 0.1788307222009935\n"
     ]
    }
   ],
   "source": [
    "sf1_df=ro_df.drop([\"total_payments\",\"total_stock_value\"],axis=1)\n",
    "sf1_df=sf1_df.convert_objects(convert_numeric=True)\n",
    "sf1_df=ro_df.copy()\n",
    "X,y,_=extract_df(sf1_df.fillna(0))\n",
    "score=calc_score(X,y,rf)\n",
    "score_dict={\"data\":\"removing totals\",\"dataframe\":\"sf1_df\"}\n",
    "score_dict.update(score)\n",
    "rf_dict.append(score_dict)"
   ]
  },
  {
   "cell_type": "markdown",
   "metadata": {},
   "source": [
    "## Engineering new features"
   ]
  },
  {
   "cell_type": "markdown",
   "metadata": {},
   "source": [
    "We noticed that many financial features in this dataset has very wide range. The difference can be several orders of magnitudes. This distribution can potentially biased the results of classifications. Take the feature ```exercised_stock_options``` for example:"
   ]
  },
  {
   "cell_type": "code",
   "execution_count": 11,
   "metadata": {},
   "outputs": [
    {
     "data": {
      "text/plain": [
       "<matplotlib.axes._subplots.AxesSubplot at 0x10b009320>"
      ]
     },
     "execution_count": 11,
     "output_type": "execute_result",
     "metadata": {}
    },
    {
     "data": {
      "image/png": "[encoded data removed]"
     },
     "output_type": "display_data",
     "metadata": {}
    }
   ],
   "source": [
    "f=\"exercised_stock_options\"\n",
    "sf1_df[f].hist(bins=100)"
   ]
  },
  {
   "cell_type": "markdown",
   "metadata": {},
   "source": [
    "In the above figure, we can see a long tail at large values of ```exercised_stock_options```. Taking logarithms of the feature ```exercised_stock_options``` makes the distribution less skewed:"
   ]
  },
  {
   "cell_type": "code",
   "execution_count": 12,
   "metadata": {},
   "outputs": [
    {
     "data": {
      "text/plain": [
       "<matplotlib.axes._subplots.AxesSubplot at 0x10b0d17b8>"
      ]
     },
     "execution_count": 12,
     "output_type": "execute_result",
     "metadata": {}
    },
    {
     "data": {
      "image/png": "[encoded data removed]"
     },
     "output_type": "display_data",
     "metadata": {}
    }
   ],
   "source": [
    "np.log10(sf1_df[f]).hist(bins=100)"
   ]
  },
  {
   "cell_type": "markdown",
   "metadata": {},
   "source": [
    "In this way, we can keep the data with extreme values but reduces its impact on classification. Since we can only perform logarithms on postive numbers, we thus adopt the following tricks to deal with zeros and negative numbers.\n",
    "1. Filling NaN or zeros values in raw data with zeros in the logarithmic features. We can do this because the financial features can never be less than 1 ($10^0$). Also, 0 and 1 have no substantial differences in these financial features.\n",
    "2. If a financial feature has negative values, we convert it into two features. One stores the positive values, and another store the negative values. For example, ```p_total_stock_value``` stores postivie values of ```total_stock_value```, while ```n_total_stock_value``` stores negative values of ```total_stock_value```.\n",
    "\n",
    "These operations are implemented in ```add_features()``` in ```preprocess_data.py```. Since we make this function compatible with the data structure used in ```poi_id.py```, we have to reload the raw data file, perform ```add_features()```, and converti it to pandas dataframe again."
   ]
  },
  {
   "cell_type": "code",
   "execution_count": 13,
   "metadata": {},
   "outputs": [],
   "source": [
    "pkl_file=\"./data/final_project_dataset.pkl\"\n",
    "data_dict=pickle.load(open(pkl_file,\"rb\"),fix_imports=False,encoding=\"latin1\")\n",
    "\n",
    "# Features to be included. Everything except \"email_address\" and \"loan_advances\"\n",
    "features_list = ['poi', 'bonus', 'deferral_payments', 'deferred_income', 'director_fees',\n",
    "                 'exercised_stock_options', 'expenses', 'from_messages',\n",
    "                 'from_poi_to_this_person', 'from_this_person_to_poi',\n",
    "                 'long_term_incentive', 'other', 'restricted_stock',\n",
    "                 'restricted_stock_deferred', 'salary', 'shared_receipt_with_poi',\n",
    "                 'to_messages', 'total_payments', 'total_stock_value']\n",
    "\n",
    "# Delete the outliers\n",
    "del data_dict[\"TOTAL\"]\n",
    "del data_dict[\"LOCKHART EUGENE E\"]\n",
    "\n",
    "# Take logarithms of finanacial features\n",
    "my_dataset, new_feature_names, financial_features = add_features(data_dict)\n",
    "\n",
    "# Convert the data to pandas dataframe\n",
    "sf2_df=pd.DataFrame(data_dict)\n",
    "sf2_df=sf2_df.convert_objects(convert_numeric=True)\n",
    "sf2_df=sf2_df.transpose()"
   ]
  },
  {
   "cell_type": "markdown",
   "metadata": {},
   "source": [
    "Again, we test this processed dataset using random forests:"
   ]
  },
  {
   "cell_type": "code",
   "execution_count": 14,
   "metadata": {},
   "outputs": [
    {
     "name": "stdout",
     "output_type": "stream",
     "text": [
      "precision: 0.3583208395802099\n",
      "recall: 0.1195\n",
      "f1: 0.1792275965504312\n"
     ]
    }
   ],
   "source": [
    "X,y,_=extract_df(sf2_df.fillna(0))\n",
    "score=calc_score(X,y,rf)\n",
    "score_dict={\"data\":\"adding new features\",\"dataframe\":\"sf2_df\"}\n",
    "score_dict.update(score)\n",
    "rf_dict.append(score_dict)"
   ]
  },
  {
   "cell_type": "markdown",
   "metadata": {},
   "source": [
    "All the scores are slightly improved by using the new preprocessed dataset.\n",
    "## Summary of results of random forests\n",
    "Here we summarize the the results of each stage of data preporocessing using random forests classifier in the following table. The variation of *precision*, *recall* and *f1* are +/- 0.01. These scores are caculated by summing TP, TF, FP, FN 1000 times using stratified cross validation. This procedure is identical to the scoring function provided by the startup code."
   ]
  },
  {
   "cell_type": "code",
   "execution_count": 15,
   "metadata": {},
   "outputs": [
    {
     "data": {
      "text/html": [
       "<div>\n",
       "<table border=\"1\" class=\"dataframe\">\n",
       "  <thead>\n",
       "    <tr style=\"text-align: right;\">\n",
       "      <th></th>\n",
       "      <th>data</th>\n",
       "      <th>dataframe</th>\n",
       "      <th>f1</th>\n",
       "      <th>precision</th>\n",
       "      <th>recall</th>\n",
       "    </tr>\n",
       "  </thead>\n",
       "  <tbody>\n",
       "    <tr>\n",
       "      <th>0</th>\n",
       "      <td>raw</td>\n",
       "      <td>df</td>\n",
       "      <td>0.145371</td>\n",
       "      <td>0.309446</td>\n",
       "      <td>0.0950</td>\n",
       "    </tr>\n",
       "    <tr>\n",
       "      <th>1</th>\n",
       "      <td>removing outlier manually</td>\n",
       "      <td>ro_df</td>\n",
       "      <td>0.172755</td>\n",
       "      <td>0.361465</td>\n",
       "      <td>0.1135</td>\n",
       "    </tr>\n",
       "    <tr>\n",
       "      <th>2</th>\n",
       "      <td>removing totals</td>\n",
       "      <td>sf1_df</td>\n",
       "      <td>0.178831</td>\n",
       "      <td>0.379254</td>\n",
       "      <td>0.1170</td>\n",
       "    </tr>\n",
       "    <tr>\n",
       "      <th>3</th>\n",
       "      <td>adding new features</td>\n",
       "      <td>sf2_df</td>\n",
       "      <td>0.179228</td>\n",
       "      <td>0.358321</td>\n",
       "      <td>0.1195</td>\n",
       "    </tr>\n",
       "  </tbody>\n",
       "</table>\n",
       "</div>"
      ]
     },
     "output_type": "execute_result",
     "metadata": {}
    }
   ],
   "source": [
    "rf_score_df=pd.DataFrame(rf_dict)\n",
    "rf_score_df"
   ]
  },
  {
   "cell_type": "markdown",
   "metadata": {},
   "source": [
    "## Feature selection\n",
    "We combine two approaches to select features for training, one is univariate feature selection, and the other is principle component analysis. We select *m* features using ```SelectKBest``` is sklearn and select another *n* features using ```pca```, and then use these *m+n* features for classification. The values of *m* and *n* will be chosen by cross-validation. We wrap these process into the class ```FeatureSel```, which is compatible with standards defined by *sklearn* so that we can incorporate it into a sklearn ```Pipeline```. The implementation of this class is in [preprocess_data.py](./preprocess_data.py)\n"
   ]
  },
  {
   "cell_type": "markdown",
   "metadata": {},
   "source": [
    "## Models of classification\n",
    "\n",
    "### Procedures of running the classification\n",
    "We will run three classification models: linear support vector machine(```LinearSVC```) and AdaBoost (```AdaBoostClassifier```). We use ```Pipeline``` class in sklearn to combine these algorithms with our ```FeatureSel``` class. A ```Pipeline``` has the following three components:\n",
    "\n",
    "1. ```FeatureSel```: As mentioned in the previous section, this class select and combines the features yielded by ```SelectKBest``` and ```pca```.\n",
    "2. ```StandardScaler```: Rescle the data if it is necessary for the classifier.\n",
    "3. ```ChoiceOfClassifier```: The main algorithm for calssification.\n",
    "\n",
    "### Tuning the model with cross validation\n",
    "\n",
    "The classification algorithms often have parameters that needs to be chosen by the user to optimize the results. Choosing these parameters often faces the trade-offs between the bias and variance of the classifications, or between the accuracy and computational cost. However, we often do not know what would be the best parameters for the algorithms and the given dataset. The only way to optimize these parameters is through parameter searching. To do this, we select a range of parameter set, run the algorithms with each parameter set and compare the final results.\n",
    "\n",
    "We set up a ```GridSearchCV``` class that scans some key parameter to fine tune the model. From those preliminary tests using random forests, we find that the values of *precision* can easily meet the specification but the values of *recall* are low. Thus we will set our ```GridSearchCV``` objects to optimize *recall*.\n",
    "\n",
    "### LinearSVC\n",
    "First we use linear support vector machine (```LinearSVC```) to do the classification on both the dataset that with and without feature engineering. The parameters that we choose to optimize are C value of ```LinearSVC``` and the number of components selected by ```SelectKBest``` and ```pca```. C value is a regularization parameter. Larger C gives lower bias but higher variance, whereas smaller C gives higher bias but lower variance on the classification results."
   ]
  },
  {
   "cell_type": "markdown",
   "metadata": {},
   "source": [
    "#### LinearSVC with the data without feature engineering, with feature selection"
   ]
  },
  {
   "cell_type": "code",
   "execution_count": 16,
   "metadata": {},
   "outputs": [
    {
     "name": "stdout",
     "output_type": "stream",
     "text": [
      "Pipeline(steps=[('fsl', FeatureSel(k_best=1, pca_comp=0)), ('sd', StandardScaler(copy=True, with_mean=True, with_std=True)), ('lvc', LinearSVC(C=9.9999999999999995e-07, class_weight=None, dual=True,\n",
      "     fit_intercept=True, intercept_scaling=1, loss='l2', multi_class='ovr',\n",
      "     penalty='l2', random_state=None, tol=0.0001, verbose=0))])\n",
      "precision: 0.36947791164658633\n",
      "recall: 0.322\n",
      "f1: 0.3441090034731499\n"
     ]
    }
   ],
   "source": [
    "clf_dict=[] # A list that stores the test conditions and scores\n",
    "fill_test_df=sf1_df.fillna(0)\n",
    "nX,y,cols=extract_df(fill_test_df)\n",
    "fsl=FeatureSel(k_best=5,pca_comp=5)\n",
    "sd=StandardScaler()\n",
    "ppl=Pipeline([(\"fsl\",fsl),(\"sd\",sd),(\"lvc\",LinearSVC())])\n",
    "gscv=GridSearchCV(ppl,{\"lvc__C\":np.logspace(-6,-1,5),\n",
    "                  \"fsl__k_best\":[1,5,10],\"fsl__pca_comp\":[0,5,10]},\n",
    "                  scoring=\"recall\",verbose=0)\n",
    "gscv.fit(nX,y)\n",
    "print(gscv.best_estimator_)\n",
    "score=calc_score(nX,y,gscv.best_estimator_,n_iter=100)\n",
    "score_dict={\"dataframe\":\"sf1_df\",\n",
    "            \"feature engineering\":False,\n",
    "           \"feature selection\":True,\n",
    "           \"algorithm\":\"LinearSVC\"}\n",
    "score_dict.update(score)\n",
    "clf_dict.append(score_dict)"
   ]
  },
  {
   "cell_type": "markdown",
   "metadata": {},
   "source": [
    "#### LinearSVC with the data without feature engineering, without feature selection"
   ]
  },
  {
   "cell_type": "code",
   "execution_count": 17,
   "metadata": {},
   "outputs": [
    {
     "name": "stdout",
     "output_type": "stream",
     "text": [
      "Pipeline(steps=[('sd', StandardScaler(copy=True, with_mean=True, with_std=True)), ('lvc', LinearSVC(C=9.9999999999999995e-07, class_weight=None, dual=True,\n",
      "     fit_intercept=True, intercept_scaling=1, loss='l2', multi_class='ovr',\n",
      "     penalty='l2', random_state=None, tol=0.0001, verbose=0))])\n",
      "precision: 0.26549295774647885\n",
      "recall: 0.377\n",
      "f1: 0.31157024793388427\n"
     ]
    }
   ],
   "source": [
    "fill_test_df=sf1_df.fillna(0)\n",
    "nX,y,cols=extract_df(fill_test_df)\n",
    "sd=StandardScaler()\n",
    "ppl_nofsl=Pipeline([(\"sd\",sd),(\"lvc\",LinearSVC())])\n",
    "gscv=GridSearchCV(ppl_nofsl,{\"lvc__C\":np.logspace(-6,-1,10)},scoring=\"recall\",verbose=0)\n",
    "gscv.fit(nX,y)\n",
    "print(gscv.best_estimator_)\n",
    "score=calc_score(nX,y,gscv.best_estimator_,n_iter=100)\n",
    "score_dict={\"dataframe\":\"sf1_df\",\n",
    "            \"feature engineering\":False,\n",
    "           \"feature selection\":False,\n",
    "           \"algorithm\":\"LinearSVC\"}\n",
    "score_dict.update(score)\n",
    "clf_dict.append(score_dict)"
   ]
  },
  {
   "cell_type": "markdown",
   "metadata": {},
   "source": [
    "#### LinearSVC with the dataset with feature engineering, with feature selection"
   ]
  },
  {
   "cell_type": "code",
   "execution_count": 18,
   "metadata": {},
   "outputs": [
    {
     "name": "stdout",
     "output_type": "stream",
     "text": [
      "Pipeline(steps=[('fsl', FeatureSel(k_best=1, pca_comp=0)), ('sd', StandardScaler(copy=True, with_mean=True, with_std=True)), ('lvc', LinearSVC(C=9.9999999999999995e-07, class_weight=None, dual=True,\n",
      "     fit_intercept=True, intercept_scaling=1, loss='l2', multi_class='ovr',\n",
      "     penalty='l2', random_state=None, tol=0.0001, verbose=0))])\n",
      "precision: 0.3838693210821848\n",
      "recall: 0.376\n",
      "f1: 0.379893912604193\n"
     ]
    }
   ],
   "source": [
    "fill_test_df=sf2_df.fillna(0)\n",
    "nX2,ny,cols=extract_df(fill_test_df)\n",
    "fsl=FeatureSel(k_best=5,pca_comp=5)\n",
    "sd=StandardScaler()\n",
    "ppl=Pipeline([(\"fsl\",fsl),(\"sd\",sd),(\"lvc\",LinearSVC())])\n",
    "gscv=GridSearchCV(ppl,{\"lvc__C\":np.logspace(-6,-1,5),\n",
    "                       \"fsl__k_best\":[1,5,10],\n",
    "                       \"fsl__pca_comp\":[0,5,10]},\n",
    "                  scoring=\"recall\",verbose=0)\n",
    "gscv.fit(nX2,ny)\n",
    "print(gscv.best_estimator_)\n",
    "score=calc_score(nX2,ny,gscv.best_estimator_,n_iter=100)\n",
    "score_dict={\"dataframe\":\"sf2_df\",\n",
    "            \"feature engineering\":True,\n",
    "           \"feature selection\":True,\n",
    "           \"algorithm\":\"LinearSVC\"}\n",
    "score_dict.update(score)\n",
    "clf_dict.append(score_dict)"
   ]
  },
  {
   "cell_type": "markdown",
   "metadata": {},
   "source": [
    "#### LinearSVC with the dataset with feature engineering, without feature selection"
   ]
  },
  {
   "cell_type": "code",
   "execution_count": 19,
   "metadata": {},
   "outputs": [
    {
     "name": "stdout",
     "output_type": "stream",
     "text": [
      "Pipeline(steps=[('sd', StandardScaler(copy=True, with_mean=True, with_std=True)), ('lvc', LinearSVC(C=9.9999999999999995e-07, class_weight=None, dual=True,\n",
      "     fit_intercept=True, intercept_scaling=1, loss='l2', multi_class='ovr',\n",
      "     penalty='l2', random_state=None, tol=0.0001, verbose=0))])\n",
      "precision: 0.29615861214374223\n",
      "recall: 0.8365\n",
      "f1: 0.4374428029807818\n"
     ]
    }
   ],
   "source": [
    "fill_test_df=sf2_df.fillna(0)\n",
    "nX,y,cols=extract_df(fill_test_df)\n",
    "sd=StandardScaler()\n",
    "ppl_nofsl=Pipeline([(\"sd\",sd),(\"lvc\",LinearSVC())])\n",
    "gscv=GridSearchCV(ppl_nofsl,{\"lvc__C\":np.logspace(-6,-1,5)},scoring=\"recall\",verbose=0)\n",
    "gscv.fit(nX,y)\n",
    "print(gscv.best_estimator_)\n",
    "score=calc_score(nX,y,gscv,n_iter=100)\n",
    "score_dict={\"dataframe\":\"sf2_df\",\n",
    "            \"feature engineering\":True,\n",
    "           \"feature selection\":False,\n",
    "           \"algorithm\":\"LinearSVC\"}\n",
    "score_dict.update(score)\n",
    "clf_dict.append(score_dict)"
   ]
  },
  {
   "cell_type": "markdown",
   "metadata": {},
   "source": [
    "### AdaBoost classification\n",
    "We will also try AdaBoost and see if it can outperforms the reusults given by LinearSVC. The pipeline we set up is almost the same as the one we used in previous section, except that we repalce ```LinearSVC``` by ```AdaBoostClassifier```.\n",
    "\n",
    "The parameter that we will tune is the learning rate. This parameter controls how much the model is adjusted after each iteration. "
   ]
  },
  {
   "cell_type": "markdown",
   "metadata": {},
   "source": [
    "#### Test the dataset with feature engineering, with feature selection"
   ]
  },
  {
   "cell_type": "code",
   "execution_count": 20,
   "metadata": {},
   "outputs": [
    {
     "name": "stdout",
     "output_type": "stream",
     "text": [
      "Pipeline(steps=[('fsl', FeatureSel(k_best=1, pca_comp=0)), ('sd', StandardScaler(copy=True, with_mean=True, with_std=True)), ('rf', AdaBoostClassifier(algorithm='SAMME.R', base_estimator=None,\n",
      "          learning_rate=9.9999999999999995e-07, n_estimators=50,\n",
      "          random_state=None))])\n",
      "precision: 0.23734729493891799\n",
      "recall: 0.068\n",
      "f1: 0.10571317528177225\n"
     ]
    }
   ],
   "source": [
    "fill_test_df=sf2_df.fillna(0)\n",
    "nX,y,cols=extract_df(fill_test_df)\n",
    "fsl=FeatureSel(k_best=5,pca_comp=5)\n",
    "sd=StandardScaler()\n",
    "ppl=Pipeline([(\"fsl\",fsl),('sd',sd),(\"rf\",AdaBoostClassifier())])\n",
    "gscv=GridSearchCV(ppl,{\"rf__learning_rate\":np.logspace(-6,0,5),\n",
    "                       \"fsl__k_best\":[1,5,10],\"fsl__pca_comp\":[0,5,10]},\n",
    "                  scoring=\"recall\",verbose=0)\n",
    "gscv.fit(nX,y)\n",
    "print(gscv.best_estimator_)\n",
    "score=calc_score(nX,y,gscv.best_estimator_)\n",
    "score_dict={\"dataframe\":\"sf2_df\",\n",
    "            \"feature engineering\":True,\n",
    "           \"feature selection\":True,\n",
    "           \"algorithm\":\"AdaBoost\"}\n",
    "score_dict.update(score)\n",
    "clf_dict.append(score_dict)"
   ]
  },
  {
   "cell_type": "markdown",
   "metadata": {},
   "source": [
    "#### Test the dataset with feature engineering, without feature selection"
   ]
  },
  {
   "cell_type": "code",
   "execution_count": 21,
   "metadata": {},
   "outputs": [
    {
     "name": "stdout",
     "output_type": "stream",
     "text": [
      "Pipeline(steps=[('sd', StandardScaler(copy=True, with_mean=True, with_std=True)), ('rf', AdaBoostClassifier(algorithm='SAMME.R', base_estimator=None,\n",
      "          learning_rate=0.031622776601683791, n_estimators=50,\n",
      "          random_state=None))])\n",
      "precision: 0.5613079019073569\n",
      "recall: 0.103\n",
      "f1: 0.17405999155048585\n"
     ]
    }
   ],
   "source": [
    "fill_test_df=sf2_df.fillna(0)\n",
    "nX,y,cols=extract_df(fill_test_df)\n",
    "fsl=FeatureSel(k_best=5,pca_comp=5)\n",
    "sd=StandardScaler()\n",
    "ppl=Pipeline([('sd',sd),(\"rf\",AdaBoostClassifier())])\n",
    "gscv=GridSearchCV(ppl,{\"rf__learning_rate\":np.logspace(-6,0,5)},scoring=\"recall\",verbose=0)\n",
    "gscv.fit(nX,y)\n",
    "print(gscv.best_estimator_)\n",
    "score=calc_score(nX,y,gscv.best_estimator_)\n",
    "score_dict={\"dataframe\":\"sf2_df\",\n",
    "            \"feature engineering\":True,\n",
    "           \"feature selection\":False,\n",
    "           \"algorithm\":\"AdaBoost\"}\n",
    "score_dict.update(score)\n",
    "clf_dict.append(score_dict)"
   ]
  },
  {
   "cell_type": "markdown",
   "metadata": {},
   "source": [
    "#### Test dataset without feature engineering, without feature selection"
   ]
  },
  {
   "cell_type": "code",
   "execution_count": 22,
   "metadata": {},
   "outputs": [
    {
     "name": "stdout",
     "output_type": "stream",
     "text": [
      "Pipeline(steps=[('sd', StandardScaler(copy=True, with_mean=True, with_std=True)), ('rf', AdaBoostClassifier(algorithm='SAMME.R', base_estimator=None,\n",
      "          learning_rate=0.031622776601683791, n_estimators=50,\n",
      "          random_state=None))])\n",
      "precision: 0.5750708215297451\n",
      "recall: 0.1015\n",
      "f1: 0.17254568635784107\n"
     ]
    }
   ],
   "source": [
    "fill_test_df=sf1_df.fillna(0)\n",
    "nX,y,cols=extract_df(fill_test_df)\n",
    "fsl=FeatureSel(k_best=5,pca_comp=5)\n",
    "sd=StandardScaler()\n",
    "ppl=Pipeline([(\"sd\",sd),(\"rf\",AdaBoostClassifier())])\n",
    "gscv=GridSearchCV(ppl,{\"rf__learning_rate\":np.logspace(-6,0,5)},scoring=\"recall\",verbose=0)\n",
    "gscv.fit(nX,y)\n",
    "print(gscv.best_estimator_)\n",
    "score=calc_score(nX,y,gscv.best_estimator_)\n",
    "score_dict={\"dataframe\":\"sf1_df\",\n",
    "            \"feature engineering\":False,\n",
    "           \"feature selection\":False,\n",
    "           \"algorithm\":\"AdaBoost\"}\n",
    "score_dict.update(score)\n",
    "clf_dict.append(score_dict)"
   ]
  },
  {
   "cell_type": "markdown",
   "metadata": {},
   "source": [
    "#### Test dataset without feature engineering, with feature selection"
   ]
  },
  {
   "cell_type": "code",
   "execution_count": 23,
   "metadata": {},
   "outputs": [
    {
     "name": "stdout",
     "output_type": "stream",
     "text": [
      "Pipeline(steps=[('fsl', FeatureSel(k_best=1, pca_comp=0)), ('sd', StandardScaler(copy=True, with_mean=True, with_std=True)), ('rf', AdaBoostClassifier(algorithm='SAMME.R', base_estimator=None,\n",
      "          learning_rate=1.0, n_estimators=50, random_state=None))])\n",
      "precision: 0.31329113924050633\n",
      "recall: 0.198\n",
      "f1: 0.2426470588235294\n"
     ]
    }
   ],
   "source": [
    "fill_test_df=sf1_df.fillna(0)\n",
    "nX,y,cols=extract_df(fill_test_df)\n",
    "fsl=FeatureSel(k_best=5,pca_comp=5)\n",
    "sd=StandardScaler()\n",
    "ppl=Pipeline([(\"fsl\",fsl),(\"sd\",sd),(\"rf\",AdaBoostClassifier())])\n",
    "gscv=GridSearchCV(ppl,{\"rf__learning_rate\":np.logspace(-6,0,5),\n",
    "                       \"fsl__k_best\":[1,5,10],\"fsl__pca_comp\":[0,5,10]},\n",
    "                  scoring=\"recall\",verbose=0)\n",
    "gscv.fit(nX,y)\n",
    "print(gscv.best_estimator_)\n",
    "score=calc_score(nX,y,gscv.best_estimator_)\n",
    "score_dict={\"dataframe\":\"sf1_df\",\n",
    "            \"feature engineering\":False,\n",
    "           \"feature selection\":True,\n",
    "           \"algorithm\":\"AdaBoost\"}\n",
    "score_dict.update(score)\n",
    "clf_dict.append(score_dict)"
   ]
  },
  {
   "cell_type": "markdown",
   "metadata": {},
   "source": [
    "### Scores of the classification algorithms\n",
    "The scores of the above algorithms are listed in the following table. Due to the randomness of cross-validation, the variation of each scores listed in the table are around +/- 0.02."
   ]
  },
  {
   "cell_type": "code",
   "execution_count": 24,
   "metadata": {},
   "outputs": [
    {
     "data": {
      "text/html": [
       "<div>\n",
       "<table border=\"1\" class=\"dataframe\">\n",
       "  <thead>\n",
       "    <tr style=\"text-align: right;\">\n",
       "      <th></th>\n",
       "      <th>algorithm</th>\n",
       "      <th>dataframe</th>\n",
       "      <th>f1</th>\n",
       "      <th>feature engineering</th>\n",
       "      <th>feature selection</th>\n",
       "      <th>precision</th>\n",
       "      <th>recall</th>\n",
       "    </tr>\n",
       "  </thead>\n",
       "  <tbody>\n",
       "    <tr>\n",
       "      <th>0</th>\n",
       "      <td>LinearSVC</td>\n",
       "      <td>sf1_df</td>\n",
       "      <td>0.344109</td>\n",
       "      <td>False</td>\n",
       "      <td>True</td>\n",
       "      <td>0.369478</td>\n",
       "      <td>0.3220</td>\n",
       "    </tr>\n",
       "    <tr>\n",
       "      <th>1</th>\n",
       "      <td>LinearSVC</td>\n",
       "      <td>sf1_df</td>\n",
       "      <td>0.311570</td>\n",
       "      <td>False</td>\n",
       "      <td>False</td>\n",
       "      <td>0.265493</td>\n",
       "      <td>0.3770</td>\n",
       "    </tr>\n",
       "    <tr>\n",
       "      <th>2</th>\n",
       "      <td>LinearSVC</td>\n",
       "      <td>sf2_df</td>\n",
       "      <td>0.379894</td>\n",
       "      <td>True</td>\n",
       "      <td>True</td>\n",
       "      <td>0.383869</td>\n",
       "      <td>0.3760</td>\n",
       "    </tr>\n",
       "    <tr>\n",
       "      <th>3</th>\n",
       "      <td>LinearSVC</td>\n",
       "      <td>sf2_df</td>\n",
       "      <td>0.437443</td>\n",
       "      <td>True</td>\n",
       "      <td>False</td>\n",
       "      <td>0.296159</td>\n",
       "      <td>0.8365</td>\n",
       "    </tr>\n",
       "    <tr>\n",
       "      <th>4</th>\n",
       "      <td>AdaBoost</td>\n",
       "      <td>sf2_df</td>\n",
       "      <td>0.105713</td>\n",
       "      <td>True</td>\n",
       "      <td>True</td>\n",
       "      <td>0.237347</td>\n",
       "      <td>0.0680</td>\n",
       "    </tr>\n",
       "    <tr>\n",
       "      <th>5</th>\n",
       "      <td>AdaBoost</td>\n",
       "      <td>sf2_df</td>\n",
       "      <td>0.174060</td>\n",
       "      <td>True</td>\n",
       "      <td>False</td>\n",
       "      <td>0.561308</td>\n",
       "      <td>0.1030</td>\n",
       "    </tr>\n",
       "    <tr>\n",
       "      <th>6</th>\n",
       "      <td>AdaBoost</td>\n",
       "      <td>sf1_df</td>\n",
       "      <td>0.172546</td>\n",
       "      <td>False</td>\n",
       "      <td>False</td>\n",
       "      <td>0.575071</td>\n",
       "      <td>0.1015</td>\n",
       "    </tr>\n",
       "    <tr>\n",
       "      <th>7</th>\n",
       "      <td>AdaBoost</td>\n",
       "      <td>sf1_df</td>\n",
       "      <td>0.242647</td>\n",
       "      <td>False</td>\n",
       "      <td>True</td>\n",
       "      <td>0.313291</td>\n",
       "      <td>0.1980</td>\n",
       "    </tr>\n",
       "  </tbody>\n",
       "</table>\n",
       "</div>"
      ]
     },
     "output_type": "execute_result",
     "metadata": {}
    }
   ],
   "source": [
    "clf_df=pd.DataFrame(clf_dict)\n",
    "clf_df"
   ]
  },
  {
   "cell_type": "markdown",
   "metadata": {},
   "source": [
    "## More details on the validation of the models\n",
    "\n",
    "Our goal is to use the model that we trained to predict the ```poi``` of other samples in the population. It would be ideal to have another dataset from the population to validate our model and see if it can predict the ```poi``` well. Since a sepearate test dataset is not available, we separate the given dataset into two parts, training set and test set. We use training set to train the model and the test set to evaluate the perfromance of an algorithm. This process is called cross-validation.\n",
    "\n",
    "We implement ```calc_score()``` to perform the cross-validation and evaluate the performances of our algorithms. ```calc_score()``` runs stratified cross validation for 1000 times. For each run, it takes 10% of the data as the test dataset and the remaining 90% of the data as the training dataset. After the model is fitted using the training set, it tests the model with the test set and calculate the number of true posivies (TP), false positives (FP), false negatives (FN) and true negatives (TN). After these iterations finish, it sums up the TP, FP, FN and TN of all iterations, and then calculate recall, precision and f1 score.\n",
    "\n",
    "We adopt this method instead of averaging each metric such as recall or precision because this dataset is small and the portions of the ```poi=True``` is only 10%. Therefore, variations of the scoring metrics between each run would be very large.\n",
    "\n",
    "The three metrics we used are defined as below: \n",
    "\n",
    "- *precision* measures the ratio of TP among all the population that are predicted as ```poi```, namely,\n",
    "\n",
    "\\begin{align}\n",
    "precision=\\frac{TP}{TP+FP}\n",
    "\\end{align}\n",
    "\n",
    "- *recall* measures the ratio of TP among all the population that are ```poi```, namely,\n",
    "\n",
    "\\begin{align}\n",
    "recall=\\frac{TP}{TP+FN}\n",
    "\\end{align}\n",
    "\n",
    "*Precision* and *recall* are chosen to be the metrics instead of *accuracy* because the population of ```poi=True``` are small, and *accuracy* cannot reflect the real predictive power of our model.\n",
    "\n",
    "\n",
    "- *f1 score* is the harmonic mean of *precision* and *recall*:\n",
    "\\begin{align}\n",
    "f1= \\frac{2 \\cdot precision \\cdot recall}{precision+recall}\n",
    "\\end{align}\n",
    "\n",
    "This metric can be considered as a kind of average of *precision* and *recall*.\n",
    "\n",
    "By using these metrics to evaluate our model, the most performant model are linearSVC, with or without feature engineering."
   ]
  },
  {
   "cell_type": "markdown",
   "metadata": {},
   "source": [
    "## Conclusion\n",
    "In this report, we demonstrated a model to predict ```poi``` in the Enron dataset that could achieve f1 scores larger than 0.3. We first remove a couple of data entries that are not appropriate for further analysis, and exclude a feature that are mostly NaNs. After that, we use both univariate method and principle component analysis as the way to select features. Finally, we use AdaBoost and linear support vector machine to predict ```poi```. Cross-validation shows that linear support vector machine is more accurate in predicting ```poi```, giving f1 scores over 0.3."
   ]
  }
 ],
 "metadata": {
  "kernelspec": {
   "display_name": "Python 3",
   "language": "python",
   "name": "python3"
  },
  "language_info": {
   "codemirror_mode": {
    "name": "ipython",
    "version": 3.0
   },
   "file_extension": ".py",
   "mimetype": "text/x-python",
   "name": "python",
   "nbconvert_exporter": "python",
   "pygments_lexer": "ipython3",
   "version": "3.5.1"
  }
 },
 "nbformat": 4,
 "nbformat_minor": 0
}