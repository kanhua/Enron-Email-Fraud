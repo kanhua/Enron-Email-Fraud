{
 "cells": [
  {
   "cell_type": "code",
   "execution_count": 1,
   "metadata": {
    "collapsed": false
   },
   "outputs": [],
   "source": [
    "%matplotlib inline\n",
    "import pandas as pd\n",
    "import ggplot as gg\n",
    "import numpy as np\n",
    "import matplotlib.pyplot as plt\n",
    "\n",
    "from sklearn.svm import LinearSVC\n",
    "from sklearn.preprocessing import scale,StandardScaler\n",
    "from sklearn.preprocessing import Imputer\n",
    "from sklearn.pipeline import Pipeline\n",
    "from sklearn.naive_bayes import GaussianNB\n",
    "from sklearn.linear_model import RidgeClassifier\n",
    "from sklearn.ensemble import RandomForestClassifier, GradientBoostingClassifier\n",
    "from sklearn.feature_selection import SelectKBest\n",
    "from sklearn.decomposition import PCA\n",
    "\n",
    "from scoring import calc_score\n",
    "from preprocess_data import pkl_to_df,extract_df,linearsvc_outlier_rm,FeatureSel"
   ]
  },
  {
   "cell_type": "markdown",
   "metadata": {},
   "source": [
    "## Exploratory data analysis\n",
    "Load the data from pkl file and convert it to a pandas dataframe:"
   ]
  },
  {
   "cell_type": "code",
   "execution_count": 2,
   "metadata": {
    "collapsed": false
   },
   "outputs": [],
   "source": [
    "df=pkl_to_df()"
   ]
  },
  {
   "cell_type": "markdown",
   "metadata": {},
   "source": [
    "The rows and columns of data"
   ]
  },
  {
   "cell_type": "code",
   "execution_count": 3,
   "metadata": {
    "collapsed": false
   },
   "outputs": [
    {
     "data": {
      "text/plain": [
       "(145, 21)"
      ]
     },
     "execution_count": 3,
     "metadata": {},
     "output_type": "execute_result"
    }
   ],
   "source": [
    "df.shape"
   ]
  },
  {
   "cell_type": "markdown",
   "metadata": {},
   "source": [
    "Names of columns"
   ]
  },
  {
   "cell_type": "code",
   "execution_count": 4,
   "metadata": {
    "collapsed": false,
    "scrolled": true
   },
   "outputs": [
    {
     "data": {
      "text/plain": [
       "Index(['bonus', 'deferral_payments', 'deferred_income', 'director_fees',\n",
       "       'email_address', 'exercised_stock_options', 'expenses', 'from_messages',\n",
       "       'from_poi_to_this_person', 'from_this_person_to_poi', 'loan_advances',\n",
       "       'long_term_incentive', 'other', 'poi', 'restricted_stock',\n",
       "       'restricted_stock_deferred', 'salary', 'shared_receipt_with_poi',\n",
       "       'to_messages', 'total_payments', 'total_stock_value'],\n",
       "      dtype='object')"
      ]
     },
     "execution_count": 4,
     "metadata": {},
     "output_type": "execute_result"
    }
   ],
   "source": [
    "df.columns"
   ]
  },
  {
   "cell_type": "code",
   "execution_count": 5,
   "metadata": {
    "collapsed": false
   },
   "outputs": [
    {
     "data": {
      "text/plain": [
       "count          145\n",
       "mean     0.1241379\n",
       "std      0.3308818\n",
       "min          False\n",
       "25%              0\n",
       "50%              0\n",
       "75%              0\n",
       "max           True\n",
       "Name: poi, dtype: object"
      ]
     },
     "execution_count": 5,
     "metadata": {},
     "output_type": "execute_result"
    }
   ],
   "source": [
    "df[\"poi\"].astype(\"bool\").describe()"
   ]
  },
  {
   "cell_type": "code",
   "execution_count": 6,
   "metadata": {
    "collapsed": true
   },
   "outputs": [],
   "source": [
    "ndf=df.convert_objects(convert_numeric=True)"
   ]
  },
  {
   "cell_type": "code",
   "execution_count": 7,
   "metadata": {
    "collapsed": false
   },
   "outputs": [
    {
     "data": {
      "text/html": [
       "<div>\n",
       "<table border=\"1\" class=\"dataframe\">\n",
       "  <thead>\n",
       "    <tr style=\"text-align: right;\">\n",
       "      <th></th>\n",
       "      <th>count</th>\n",
       "      <th>mean</th>\n",
       "      <th>std</th>\n",
       "      <th>min</th>\n",
       "      <th>25%</th>\n",
       "      <th>50%</th>\n",
       "      <th>75%</th>\n",
       "      <th>max</th>\n",
       "    </tr>\n",
       "  </thead>\n",
       "  <tbody>\n",
       "    <tr>\n",
       "      <th>bonus</th>\n",
       "      <td>81</td>\n",
       "      <td>1201773</td>\n",
       "      <td>1441679</td>\n",
       "      <td>70000</td>\n",
       "      <td>425000</td>\n",
       "      <td>750000</td>\n",
       "      <td>1200000</td>\n",
       "      <td>8000000</td>\n",
       "    </tr>\n",
       "    <tr>\n",
       "      <th>deferral_payments</th>\n",
       "      <td>38</td>\n",
       "      <td>841602.5</td>\n",
       "      <td>1289323</td>\n",
       "      <td>-102500</td>\n",
       "      <td>79644.5</td>\n",
       "      <td>221063.5</td>\n",
       "      <td>867211.2</td>\n",
       "      <td>6426990</td>\n",
       "    </tr>\n",
       "    <tr>\n",
       "      <th>deferred_income</th>\n",
       "      <td>48</td>\n",
       "      <td>-581049.8</td>\n",
       "      <td>942076.4</td>\n",
       "      <td>-3504386</td>\n",
       "      <td>-611209.2</td>\n",
       "      <td>-151927</td>\n",
       "      <td>-37926</td>\n",
       "      <td>-833</td>\n",
       "    </tr>\n",
       "    <tr>\n",
       "      <th>director_fees</th>\n",
       "      <td>16</td>\n",
       "      <td>89822.88</td>\n",
       "      <td>41112.7</td>\n",
       "      <td>3285</td>\n",
       "      <td>83674.5</td>\n",
       "      <td>106164.5</td>\n",
       "      <td>112815</td>\n",
       "      <td>137864</td>\n",
       "    </tr>\n",
       "    <tr>\n",
       "      <th>exercised_stock_options</th>\n",
       "      <td>101</td>\n",
       "      <td>2959559</td>\n",
       "      <td>5499450</td>\n",
       "      <td>3285</td>\n",
       "      <td>506765</td>\n",
       "      <td>1297049</td>\n",
       "      <td>2542813</td>\n",
       "      <td>3.434838e+07</td>\n",
       "    </tr>\n",
       "    <tr>\n",
       "      <th>expenses</th>\n",
       "      <td>94</td>\n",
       "      <td>54192.01</td>\n",
       "      <td>46108.38</td>\n",
       "      <td>148</td>\n",
       "      <td>22479</td>\n",
       "      <td>46547.5</td>\n",
       "      <td>78408.5</td>\n",
       "      <td>228763</td>\n",
       "    </tr>\n",
       "    <tr>\n",
       "      <th>from_messages</th>\n",
       "      <td>86</td>\n",
       "      <td>608.7907</td>\n",
       "      <td>1841.034</td>\n",
       "      <td>12</td>\n",
       "      <td>22.75</td>\n",
       "      <td>41</td>\n",
       "      <td>145.5</td>\n",
       "      <td>14368</td>\n",
       "    </tr>\n",
       "    <tr>\n",
       "      <th>from_poi_to_this_person</th>\n",
       "      <td>86</td>\n",
       "      <td>64.89535</td>\n",
       "      <td>86.97924</td>\n",
       "      <td>0</td>\n",
       "      <td>10</td>\n",
       "      <td>35</td>\n",
       "      <td>72.25</td>\n",
       "      <td>528</td>\n",
       "    </tr>\n",
       "    <tr>\n",
       "      <th>from_this_person_to_poi</th>\n",
       "      <td>86</td>\n",
       "      <td>41.23256</td>\n",
       "      <td>100.0731</td>\n",
       "      <td>0</td>\n",
       "      <td>1</td>\n",
       "      <td>8</td>\n",
       "      <td>24.75</td>\n",
       "      <td>609</td>\n",
       "    </tr>\n",
       "    <tr>\n",
       "      <th>loan_advances</th>\n",
       "      <td>3</td>\n",
       "      <td>2.7975e+07</td>\n",
       "      <td>4.638256e+07</td>\n",
       "      <td>400000</td>\n",
       "      <td>1200000</td>\n",
       "      <td>2000000</td>\n",
       "      <td>4.17625e+07</td>\n",
       "      <td>8.1525e+07</td>\n",
       "    </tr>\n",
       "    <tr>\n",
       "      <th>long_term_incentive</th>\n",
       "      <td>65</td>\n",
       "      <td>746491.2</td>\n",
       "      <td>862917.4</td>\n",
       "      <td>69223</td>\n",
       "      <td>275000</td>\n",
       "      <td>422158</td>\n",
       "      <td>831809</td>\n",
       "      <td>5145434</td>\n",
       "    </tr>\n",
       "    <tr>\n",
       "      <th>other</th>\n",
       "      <td>92</td>\n",
       "      <td>465276.7</td>\n",
       "      <td>1389719</td>\n",
       "      <td>2</td>\n",
       "      <td>1209</td>\n",
       "      <td>51984.5</td>\n",
       "      <td>357577.2</td>\n",
       "      <td>1.035973e+07</td>\n",
       "    </tr>\n",
       "    <tr>\n",
       "      <th>poi</th>\n",
       "      <td>145</td>\n",
       "      <td>0.1241379</td>\n",
       "      <td>0.3308818</td>\n",
       "      <td>False</td>\n",
       "      <td>0</td>\n",
       "      <td>0</td>\n",
       "      <td>0</td>\n",
       "      <td>True</td>\n",
       "    </tr>\n",
       "    <tr>\n",
       "      <th>restricted_stock</th>\n",
       "      <td>109</td>\n",
       "      <td>1147424</td>\n",
       "      <td>2249770</td>\n",
       "      <td>-2604490</td>\n",
       "      <td>252055</td>\n",
       "      <td>441096</td>\n",
       "      <td>985032</td>\n",
       "      <td>1.476169e+07</td>\n",
       "    </tr>\n",
       "    <tr>\n",
       "      <th>restricted_stock_deferred</th>\n",
       "      <td>17</td>\n",
       "      <td>621892.8</td>\n",
       "      <td>3845528</td>\n",
       "      <td>-1787380</td>\n",
       "      <td>-329825</td>\n",
       "      <td>-140264</td>\n",
       "      <td>-72419</td>\n",
       "      <td>1.545629e+07</td>\n",
       "    </tr>\n",
       "    <tr>\n",
       "      <th>salary</th>\n",
       "      <td>94</td>\n",
       "      <td>284087.5</td>\n",
       "      <td>177131.1</td>\n",
       "      <td>477</td>\n",
       "      <td>211802</td>\n",
       "      <td>258741</td>\n",
       "      <td>308606.5</td>\n",
       "      <td>1111258</td>\n",
       "    </tr>\n",
       "    <tr>\n",
       "      <th>shared_receipt_with_poi</th>\n",
       "      <td>86</td>\n",
       "      <td>1176.465</td>\n",
       "      <td>1178.318</td>\n",
       "      <td>2</td>\n",
       "      <td>249.75</td>\n",
       "      <td>740.5</td>\n",
       "      <td>1888.25</td>\n",
       "      <td>5521</td>\n",
       "    </tr>\n",
       "    <tr>\n",
       "      <th>to_messages</th>\n",
       "      <td>86</td>\n",
       "      <td>2073.86</td>\n",
       "      <td>2582.701</td>\n",
       "      <td>57</td>\n",
       "      <td>541.25</td>\n",
       "      <td>1211</td>\n",
       "      <td>2634.75</td>\n",
       "      <td>15149</td>\n",
       "    </tr>\n",
       "    <tr>\n",
       "      <th>total_payments</th>\n",
       "      <td>124</td>\n",
       "      <td>2623421</td>\n",
       "      <td>9488106</td>\n",
       "      <td>148</td>\n",
       "      <td>386380.2</td>\n",
       "      <td>1100246</td>\n",
       "      <td>2084663</td>\n",
       "      <td>1.035598e+08</td>\n",
       "    </tr>\n",
       "    <tr>\n",
       "      <th>total_stock_value</th>\n",
       "      <td>125</td>\n",
       "      <td>3352073</td>\n",
       "      <td>6532883</td>\n",
       "      <td>-44093</td>\n",
       "      <td>494136</td>\n",
       "      <td>1095040</td>\n",
       "      <td>2606763</td>\n",
       "      <td>4.911008e+07</td>\n",
       "    </tr>\n",
       "  </tbody>\n",
       "</table>\n",
       "</div>"
      ],
      "text/plain": [
       "                          count        mean           std      min       25%  \\\n",
       "bonus                        81     1201773       1441679    70000    425000   \n",
       "deferral_payments            38    841602.5       1289323  -102500   79644.5   \n",
       "deferred_income              48   -581049.8      942076.4 -3504386 -611209.2   \n",
       "director_fees                16    89822.88       41112.7     3285   83674.5   \n",
       "exercised_stock_options     101     2959559       5499450     3285    506765   \n",
       "expenses                     94    54192.01      46108.38      148     22479   \n",
       "from_messages                86    608.7907      1841.034       12     22.75   \n",
       "from_poi_to_this_person      86    64.89535      86.97924        0        10   \n",
       "from_this_person_to_poi      86    41.23256      100.0731        0         1   \n",
       "loan_advances                 3  2.7975e+07  4.638256e+07   400000   1200000   \n",
       "long_term_incentive          65    746491.2      862917.4    69223    275000   \n",
       "other                        92    465276.7       1389719        2      1209   \n",
       "poi                         145   0.1241379     0.3308818    False         0   \n",
       "restricted_stock            109     1147424       2249770 -2604490    252055   \n",
       "restricted_stock_deferred    17    621892.8       3845528 -1787380   -329825   \n",
       "salary                       94    284087.5      177131.1      477    211802   \n",
       "shared_receipt_with_poi      86    1176.465      1178.318        2    249.75   \n",
       "to_messages                  86     2073.86      2582.701       57    541.25   \n",
       "total_payments              124     2623421       9488106      148  386380.2   \n",
       "total_stock_value           125     3352073       6532883   -44093    494136   \n",
       "\n",
       "                                50%          75%           max  \n",
       "bonus                        750000      1200000       8000000  \n",
       "deferral_payments          221063.5     867211.2       6426990  \n",
       "deferred_income             -151927       -37926          -833  \n",
       "director_fees              106164.5       112815        137864  \n",
       "exercised_stock_options     1297049      2542813  3.434838e+07  \n",
       "expenses                    46547.5      78408.5        228763  \n",
       "from_messages                    41        145.5         14368  \n",
       "from_poi_to_this_person          35        72.25           528  \n",
       "from_this_person_to_poi           8        24.75           609  \n",
       "loan_advances               2000000  4.17625e+07    8.1525e+07  \n",
       "long_term_incentive          422158       831809       5145434  \n",
       "other                       51984.5     357577.2  1.035973e+07  \n",
       "poi                               0            0          True  \n",
       "restricted_stock             441096       985032  1.476169e+07  \n",
       "restricted_stock_deferred   -140264       -72419  1.545629e+07  \n",
       "salary                       258741     308606.5       1111258  \n",
       "shared_receipt_with_poi       740.5      1888.25          5521  \n",
       "to_messages                    1211      2634.75         15149  \n",
       "total_payments              1100246      2084663  1.035598e+08  \n",
       "total_stock_value           1095040      2606763  4.911008e+07  "
      ]
     },
     "execution_count": 7,
     "metadata": {},
     "output_type": "execute_result"
    }
   ],
   "source": [
    "ndf.describe().transpose()"
   ]
  },
  {
   "cell_type": "markdown",
   "metadata": {},
   "source": [
    "Only three guys have meaningful ```loan_advance``` values, let's see if it correlates to ```pio```"
   ]
  },
  {
   "cell_type": "code",
   "execution_count": 8,
   "metadata": {
    "collapsed": false
   },
   "outputs": [
    {
     "data": {
      "text/plain": [
       "FREVERT MARK A      False\n",
       "LAY KENNETH L        True\n",
       "PICKERING MARK R    False\n",
       "Name: poi, dtype: bool"
      ]
     },
     "execution_count": 8,
     "metadata": {},
     "output_type": "execute_result"
    }
   ],
   "source": [
    "ndf.loc[np.isnan(ndf[\"loan_advances\"])==False,\"poi\"]"
   ]
  },
  {
   "cell_type": "markdown",
   "metadata": {},
   "source": [
    "It seems that ```loan_advances``` is not an important feature"
   ]
  },
  {
   "cell_type": "code",
   "execution_count": 9,
   "metadata": {
    "collapsed": false
   },
   "outputs": [
    {
     "data": {
      "text/plain": [
       "<matplotlib.axes._subplots.AxesSubplot at 0x116107470>"
      ]
     },
     "execution_count": 9,
     "metadata": {},
     "output_type": "execute_result"
    },
    {
     "data": {
      "image/png": "[encoded data removed]",
      "text/plain": [
       "<matplotlib.figure.Figure at 0x1160f0128>"
      ]
     },
     "metadata": {},
     "output_type": "display_data"
    }
   ],
   "source": [
    "ndf[\"salary\"].hist(bins=100)"
   ]
  },
  {
   "cell_type": "code",
   "execution_count": 10,
   "metadata": {
    "collapsed": false
   },
   "outputs": [
    {
     "data": {
      "text/plain": [
       "FREVERT MARK A        False\n",
       "LAY KENNETH L          True\n",
       "SKILLING JEFFREY K     True\n",
       "Name: poi, dtype: bool"
      ]
     },
     "execution_count": 10,
     "metadata": {},
     "output_type": "execute_result"
    }
   ],
   "source": [
    "ndf.loc[ndf[\"salary\"]>1000000,\"poi\"]"
   ]
  },
  {
   "cell_type": "code",
   "execution_count": 11,
   "metadata": {
    "collapsed": false
   },
   "outputs": [
    {
     "data": {
      "text/plain": [
       "<matplotlib.axes._subplots.AxesSubplot at 0x1165072e8>"
      ]
     },
     "execution_count": 11,
     "metadata": {},
     "output_type": "execute_result"
    },
    {
     "data": {
      "image/png": "[encoded data removed]",
      "text/plain": [
       "<matplotlib.figure.Figure at 0x116500978>"
      ]
     },
     "metadata": {},
     "output_type": "display_data"
    }
   ],
   "source": [
    "ndf[\"restricted_stock_deferred\"].hist(bins=100)"
   ]
  },
  {
   "cell_type": "code",
   "execution_count": 12,
   "metadata": {
    "collapsed": false
   },
   "outputs": [
    {
     "data": {
      "text/plain": [
       "BHATNAGAR SANJAY    False\n",
       "Name: poi, dtype: bool"
      ]
     },
     "execution_count": 12,
     "metadata": {},
     "output_type": "execute_result"
    }
   ],
   "source": [
    "ndf.loc[ndf[\"restricted_stock_deferred\"]>1e7,\"poi\"]"
   ]
  },
  {
   "cell_type": "markdown",
   "metadata": {},
   "source": [
    "Investigate ```director_fees```"
   ]
  },
  {
   "cell_type": "code",
   "execution_count": 13,
   "metadata": {
    "collapsed": false
   },
   "outputs": [
    {
     "data": {
      "text/plain": [
       "BELFER ROBERT              False\n",
       "BHATNAGAR SANJAY           False\n",
       "BLAKE JR. NORMAN P         False\n",
       "CHAN RONNIE                False\n",
       "DUNCAN JOHN H              False\n",
       "GRAMM WENDY L              False\n",
       "JAEDICKE ROBERT            False\n",
       "LEMAISTRE CHARLES          False\n",
       "MENDELSOHN JOHN            False\n",
       "MEYER JEROME J             False\n",
       "PEREIRA PAULO V. FERRAZ    False\n",
       "POWERS WILLIAM             False\n",
       "SAVAGE FRANK               False\n",
       "URQUHART JOHN A            False\n",
       "WAKEHAM JOHN               False\n",
       "WINOKUR JR. HERBERT S      False\n",
       "Name: poi, dtype: bool"
      ]
     },
     "execution_count": 13,
     "metadata": {},
     "output_type": "execute_result"
    }
   ],
   "source": [
    "ndf.loc[np.isnan(ndf[\"director_fees\"])==False,\"poi\"]"
   ]
  },
  {
   "cell_type": "markdown",
   "metadata": {},
   "source": [
    "It looks like maybe whether ```director_fees``` is NaN is a feature.\n",
    "Add this new feature into the original dataset"
   ]
  },
  {
   "cell_type": "code",
   "execution_count": 14,
   "metadata": {
    "collapsed": true
   },
   "outputs": [],
   "source": [
    "df[\"director_fees\"]=np.isnan(ndf[\"director_fees\"])"
   ]
  },
  {
   "cell_type": "code",
   "execution_count": 15,
   "metadata": {
    "collapsed": false
   },
   "outputs": [
    {
     "data": {
      "text/plain": [
       "<matplotlib.axes._subplots.AxesSubplot at 0x116be5c88>"
      ]
     },
     "execution_count": 15,
     "metadata": {},
     "output_type": "execute_result"
    },
    {
     "data": {
      "image/png": "[encoded data removed]",
      "text/plain": [
       "<matplotlib.figure.Figure at 0x110f9a518>"
      ]
     },
     "metadata": {},
     "output_type": "display_data"
    }
   ],
   "source": [
    "f=\"exercised_stock_options\"\n",
    "ndf[f].hist(bins=100)"
   ]
  },
  {
   "cell_type": "code",
   "execution_count": 16,
   "metadata": {
    "collapsed": false
   },
   "outputs": [
    {
     "data": {
      "text/plain": [
       "<matplotlib.axes._subplots.AxesSubplot at 0x117bc30f0>"
      ]
     },
     "execution_count": 16,
     "metadata": {},
     "output_type": "execute_result"
    },
    {
     "data": {
      "image/png": "[encoded data removed]",
      "text/plain": [
       "<matplotlib.figure.Figure at 0x117d167f0>"
      ]
     },
     "metadata": {},
     "output_type": "display_data"
    }
   ],
   "source": [
    "np.log10(ndf[f]).hist(bins=100)"
   ]
  },
  {
   "cell_type": "markdown",
   "metadata": {},
   "source": [
    "Take the logrithm of this feature since the logarithm seems to be better distributed"
   ]
  },
  {
   "cell_type": "code",
   "execution_count": 17,
   "metadata": {
    "collapsed": true
   },
   "outputs": [],
   "source": [
    "df[f]=np.log10(ndf[f])"
   ]
  },
  {
   "cell_type": "markdown",
   "metadata": {},
   "source": [
    "Investigate the feature ```other```"
   ]
  },
  {
   "cell_type": "code",
   "execution_count": 18,
   "metadata": {
    "collapsed": false
   },
   "outputs": [
    {
     "data": {
      "text/plain": [
       "<matplotlib.axes._subplots.AxesSubplot at 0x117f31b38>"
      ]
     },
     "execution_count": 18,
     "metadata": {},
     "output_type": "execute_result"
    },
    {
     "data": {
      "image/png": "[encoded data removed]",
      "text/plain": [
       "<matplotlib.figure.Figure at 0x117f4a4a8>"
      ]
     },
     "metadata": {},
     "output_type": "display_data"
    }
   ],
   "source": [
    "ndf[\"other\"].hist(bins=100)"
   ]
  },
  {
   "cell_type": "code",
   "execution_count": 19,
   "metadata": {
    "collapsed": false
   },
   "outputs": [
    {
     "data": {
      "text/plain": [
       "<matplotlib.axes._subplots.AxesSubplot at 0x1180473c8>"
      ]
     },
     "execution_count": 19,
     "metadata": {},
     "output_type": "execute_result"
    },
    {
     "data": {
      "image/png": "[encoded data removed]",
      "text/plain": [
       "<matplotlib.figure.Figure at 0x117fb4c18>"
      ]
     },
     "metadata": {},
     "output_type": "display_data"
    }
   ],
   "source": [
    "np.log10(ndf[\"other\"]).hist(bins=100)"
   ]
  },
  {
   "cell_type": "code",
   "execution_count": 20,
   "metadata": {
    "collapsed": true
   },
   "outputs": [],
   "source": [
    "df[\"other\"]=np.log10(ndf[\"other\"])"
   ]
  },
  {
   "cell_type": "code",
   "execution_count": 21,
   "metadata": {
    "collapsed": false
   },
   "outputs": [
    {
     "name": "stdout",
     "output_type": "stream",
     "text": [
      "bonus                          NaN\n",
      "deferral_payments              NaN\n",
      "deferred_income                NaN\n",
      "director_fees                  NaN\n",
      "email_address                  NaN\n",
      "exercised_stock_options        NaN\n",
      "expenses                       NaN\n",
      "from_messages                  NaN\n",
      "from_poi_to_this_person        NaN\n",
      "from_this_person_to_poi        NaN\n",
      "loan_advances                  NaN\n",
      "long_term_incentive            NaN\n",
      "other                          NaN\n",
      "poi                          False\n",
      "restricted_stock               NaN\n",
      "restricted_stock_deferred      NaN\n",
      "salary                         NaN\n",
      "shared_receipt_with_poi        NaN\n",
      "to_messages                    NaN\n",
      "total_payments                 NaN\n",
      "total_stock_value              NaN\n",
      "Name: LOCKHART EUGENE E, dtype: object\n"
     ]
    }
   ],
   "source": [
    "nndf=ndf.drop([\"poi\",\"email_address\"],axis=1)\n",
    "for i in range(145):\n",
    "    ar=nndf.iloc[i,:]\n",
    "    if np.all(np.isnan(ar.values)):\n",
    "        print(ndf.iloc[i,:])"
   ]
  },
  {
   "cell_type": "code",
   "execution_count": 22,
   "metadata": {
    "collapsed": true
   },
   "outputs": [],
   "source": [
    "df=df.drop(\"LOCKHART EUGENE E\",axis=0)"
   ]
  },
  {
   "cell_type": "markdown",
   "metadata": {},
   "source": [
    "### Preprocess the data"
   ]
  },
  {
   "cell_type": "markdown",
   "metadata": {},
   "source": [
    "Convert the dataframe to a matrix"
   ]
  },
  {
   "cell_type": "code",
   "execution_count": 23,
   "metadata": {
    "collapsed": false
   },
   "outputs": [
    {
     "name": "stdout",
     "output_type": "stream",
     "text": [
      "Index(['bonus', 'deferred_income', 'director_fees', 'exercised_stock_options',\n",
      "       'expenses', 'from_messages', 'from_poi_to_this_person',\n",
      "       'from_this_person_to_poi', 'long_term_incentive', 'other',\n",
      "       'restricted_stock', 'salary', 'shared_receipt_with_poi', 'to_messages',\n",
      "       'total_payments', 'total_stock_value'],\n",
      "      dtype='object')\n"
     ]
    }
   ],
   "source": [
    "X,y=extract_df(df,[\"email_address\",\"poi\",\"loan_advances\",\"restricted_stock_deferred\",\"deferral_payments\"])\n",
    "#X,y=extract_df(df,[\"email_address\",\"poi\"])"
   ]
  },
  {
   "cell_type": "code",
   "execution_count": 24,
   "metadata": {
    "collapsed": false
   },
   "outputs": [],
   "source": [
    "imp=Imputer(axis=0,strategy=\"median\")\n",
    "n_X=imp.fit_transform(X)"
   ]
  },
  {
   "cell_type": "markdown",
   "metadata": {},
   "source": [
    "### Run a Linear SVC model without removing any outliers or feature selection"
   ]
  },
  {
   "cell_type": "code",
   "execution_count": 25,
   "metadata": {
    "collapsed": false
   },
   "outputs": [
    {
     "name": "stdout",
     "output_type": "stream",
     "text": [
      "precision: 0.32808988764044944\n",
      "recall: 0.073\n",
      "f1: 0.11942740286298568\n"
     ]
    }
   ],
   "source": [
    "#set up a LinearSVC model\n",
    "sd=StandardScaler()\n",
    "lvc=LinearSVC(C=0.1)\n",
    "svcpp=Pipeline([(\"sd\",sd),(\"lvc\",lvc)])\n",
    "calc_score(n_X,y,svcpp)"
   ]
  },
  {
   "cell_type": "markdown",
   "metadata": {},
   "source": [
    "### Run a navie bayes algorithm and test the results"
   ]
  },
  {
   "cell_type": "code",
   "execution_count": 26,
   "metadata": {
    "collapsed": false
   },
   "outputs": [
    {
     "name": "stdout",
     "output_type": "stream",
     "text": [
      "precision: 0.18813314037626627\n",
      "recall: 0.52\n",
      "f1: 0.2763018065887354\n"
     ]
    }
   ],
   "source": [
    "calc_score(n_X,y,GaussianNB())"
   ]
  },
  {
   "cell_type": "markdown",
   "metadata": {},
   "source": [
    "### Run a random forest classification"
   ]
  },
  {
   "cell_type": "code",
   "execution_count": 27,
   "metadata": {
    "collapsed": false
   },
   "outputs": [
    {
     "name": "stdout",
     "output_type": "stream",
     "text": [
      "precision: 0.31762917933130697\n",
      "recall: 0.1045\n",
      "f1: 0.15726109857035364\n"
     ]
    }
   ],
   "source": [
    "calc_score(n_X,y,RandomForestClassifier())"
   ]
  },
  {
   "cell_type": "markdown",
   "metadata": {},
   "source": [
    "### Run Gradient Boosting Machine"
   ]
  },
  {
   "cell_type": "code",
   "execution_count": 28,
   "metadata": {
    "collapsed": false
   },
   "outputs": [
    {
     "name": "stdout",
     "output_type": "stream",
     "text": [
      "precision: 0.30054151624548736\n",
      "recall: 0.1665\n",
      "f1: 0.21428571428571427\n"
     ]
    }
   ],
   "source": [
    "calc_score(n_X,y,GradientBoostingClassifier())"
   ]
  },
  {
   "cell_type": "markdown",
   "metadata": {},
   "source": [
    "### Outlier removal using LinearSVC"
   ]
  },
  {
   "cell_type": "code",
   "execution_count": 29,
   "metadata": {
    "collapsed": true
   },
   "outputs": [],
   "source": [
    "f_X,f_y,dis_y=linearsvc_outlier_rm(n_X,y,discard=0.2,lvc_C=0.1)"
   ]
  },
  {
   "cell_type": "code",
   "execution_count": 30,
   "metadata": {
    "collapsed": false
   },
   "outputs": [
    {
     "data": {
      "text/plain": [
       "(array([   1.,    0.,    0.,    0.,    1.,    3.,  109.,   21.,    4.,    5.]),\n",
       " array([-3.87664737, -3.41293684, -2.94922631, -2.48551577, -2.02180524,\n",
       "        -1.55809471, -1.09438418, -0.63067365, -0.16696312,  0.29674741,\n",
       "         0.76045794]),\n",
       " <a list of 10 Patch objects>)"
      ]
     },
     "execution_count": 30,
     "metadata": {},
     "output_type": "execute_result"
    },
    {
     "data": {
      "image/png": "[encoded data removed]",
      "text/plain": [
       "<matplotlib.figure.Figure at 0x1182b84a8>"
      ]
     },
     "metadata": {},
     "output_type": "display_data"
    }
   ],
   "source": [
    "plt.hist(dis_y)"
   ]
  },
  {
   "cell_type": "markdown",
   "metadata": {},
   "source": [
    "#### Test a few classification algorithms again"
   ]
  },
  {
   "cell_type": "code",
   "execution_count": 31,
   "metadata": {
    "collapsed": false
   },
   "outputs": [
    {
     "name": "stdout",
     "output_type": "stream",
     "text": [
      "precision: 0.3641732283464567\n",
      "recall: 0.0925\n",
      "f1: 0.14752791068580542\n"
     ]
    }
   ],
   "source": [
    "#set up a LinearSVC model\n",
    "sd=StandardScaler()\n",
    "lvc=LinearSVC(C=0.1)\n",
    "svcpp=Pipeline([(\"sd\",sd),(\"lvc\",lvc)])\n",
    "calc_score(f_X,f_y,svcpp)"
   ]
  },
  {
   "cell_type": "code",
   "execution_count": 32,
   "metadata": {
    "collapsed": false
   },
   "outputs": [
    {
     "name": "stdout",
     "output_type": "stream",
     "text": [
      "precision: 0.22498676548438326\n",
      "recall: 0.425\n",
      "f1: 0.2942194530979578\n"
     ]
    }
   ],
   "source": [
    "calc_score(f_X,f_y,GaussianNB())"
   ]
  },
  {
   "cell_type": "code",
   "execution_count": 33,
   "metadata": {
    "collapsed": false
   },
   "outputs": [
    {
     "name": "stdout",
     "output_type": "stream",
     "text": [
      "precision: 0.2931726907630522\n",
      "recall: 0.1095\n",
      "f1: 0.15944666909355662\n"
     ]
    }
   ],
   "source": [
    "calc_score(f_X,f_y,RandomForestClassifier())"
   ]
  },
  {
   "cell_type": "code",
   "execution_count": 34,
   "metadata": {
    "collapsed": false
   },
   "outputs": [
    {
     "name": "stdout",
     "output_type": "stream",
     "text": [
      "precision: 0.3210568454763811\n",
      "recall: 0.2005\n",
      "f1: 0.24684518313327178\n"
     ]
    }
   ],
   "source": [
    "calc_score(f_X,f_y,GradientBoostingClassifier())"
   ]
  },
  {
   "cell_type": "markdown",
   "metadata": {},
   "source": [
    "Both recall and precision increase slightly after removing outliers"
   ]
  },
  {
   "cell_type": "markdown",
   "metadata": {},
   "source": [
    "### Feature selection\n",
    "Use SelectKBest algorithm to select import features"
   ]
  },
  {
   "cell_type": "code",
   "execution_count": 35,
   "metadata": {
    "collapsed": true
   },
   "outputs": [],
   "source": [
    "skb=SelectKBest(k=16)"
   ]
  },
  {
   "cell_type": "code",
   "execution_count": 36,
   "metadata": {
    "collapsed": false
   },
   "outputs": [
    {
     "name": "stdout",
     "output_type": "stream",
     "text": [
      "precision: 0.3060796645702306\n",
      "recall: 0.073\n",
      "f1: 0.11788453774727493\n"
     ]
    }
   ],
   "source": [
    "sd=StandardScaler()\n",
    "lvc=LinearSVC(C=0.1)\n",
    "svcpp=Pipeline([(\"sd\",sd),(\"skb\",skb),(\"lvc\",lvc)])\n",
    "calc_score(f_X,f_y,svcpp)"
   ]
  },
  {
   "cell_type": "markdown",
   "metadata": {},
   "source": [
    "User PCA to select features"
   ]
  },
  {
   "cell_type": "code",
   "execution_count": 37,
   "metadata": {
    "collapsed": true
   },
   "outputs": [],
   "source": [
    "pca=PCA(n_components=10,whiten=True)"
   ]
  },
  {
   "cell_type": "markdown",
   "metadata": {},
   "source": [
    "### Test some classifiers"
   ]
  },
  {
   "cell_type": "code",
   "execution_count": 38,
   "metadata": {
    "collapsed": false
   },
   "outputs": [
    {
     "name": "stdout",
     "output_type": "stream",
     "text": [
      "precision: 0.33986928104575165\n",
      "recall: 0.104\n",
      "f1: 0.15926493108728942\n"
     ]
    }
   ],
   "source": [
    "lvc=LinearSVC(C=0.0001,tol=0.0001)\n",
    "svcpp=Pipeline([(\"skb\",skb),(\"pca\",pca),(\"sd\",sd),(\"lvc\",lvc)])\n",
    "calc_score(f_X,f_y,svcpp)"
   ]
  },
  {
   "cell_type": "code",
   "execution_count": 39,
   "metadata": {
    "collapsed": false
   },
   "outputs": [
    {
     "name": "stdout",
     "output_type": "stream",
     "text": [
      "precision: 0.42525399129172714\n",
      "recall: 0.1465\n",
      "f1: 0.21792487913722575\n"
     ]
    }
   ],
   "source": [
    "lvc=LinearSVC(C=10,tol=1e-1)\n",
    "svcpp=Pipeline([(\"pca\",pca),(\"lvc\",lvc)])\n",
    "calc_score(f_X,f_y,svcpp)"
   ]
  },
  {
   "cell_type": "code",
   "execution_count": 40,
   "metadata": {
    "collapsed": false
   },
   "outputs": [
    {
     "name": "stdout",
     "output_type": "stream",
     "text": [
      "precision: 0.33962264150943394\n",
      "recall: 0.135\n",
      "f1: 0.19320214669051877\n"
     ]
    }
   ],
   "source": [
    "rf=RandomForestClassifier()\n",
    "svcpp=Pipeline([(\"skb\",skb),(\"pca\",pca),(\"rf\",rf)])\n",
    "calc_score(f_X,f_y,svcpp)"
   ]
  },
  {
   "cell_type": "markdown",
   "metadata": {},
   "source": [
    "### Best result"
   ]
  },
  {
   "cell_type": "code",
   "execution_count": 41,
   "metadata": {
    "collapsed": false
   },
   "outputs": [
    {
     "name": "stdout",
     "output_type": "stream",
     "text": [
      "precision: 0.3808674985145573\n",
      "recall: 0.3205\n",
      "f1: 0.3480857996198751\n"
     ]
    }
   ],
   "source": [
    "svcpp=Pipeline([(\"skb\",skb),(\"pca\",pca),(\"rf\",GaussianNB())])\n",
    "calc_score(f_X,f_y,svcpp)"
   ]
  },
  {
   "cell_type": "code",
   "execution_count": 42,
   "metadata": {
    "collapsed": false
   },
   "outputs": [
    {
     "name": "stdout",
     "output_type": "stream",
     "text": [
      "precision: 0.30440967283072545\n",
      "recall: 0.107\n",
      "f1: 0.15834258231594525\n"
     ]
    }
   ],
   "source": [
    "svcpp=Pipeline([(\"skb\",skb),(\"pca\",pca),(\"rf\",LogisticRegression())])\n",
    "calc_score(f_X,f_y,svcpp)"
   ]
  },
  {
   "cell_type": "markdown",
   "metadata": {},
   "source": [
    "Put SelectKBest and PCA in the pipeline drastically improves precision, recall and f1 scores further."
   ]
  },
  {
   "cell_type": "markdown",
   "metadata": {},
   "source": [
    "Previous algorithms removes outlier first and then run feature selections. In this test, we perform outlier removal after feature selection."
   ]
  },
  {
   "cell_type": "code",
   "execution_count": 43,
   "metadata": {
    "collapsed": false
   },
   "outputs": [
    {
     "name": "stdout",
     "output_type": "stream",
     "text": [
      "precision: 0.4617524339360223\n",
      "recall: 0.166\n",
      "f1: 0.24420742920191246\n"
     ]
    }
   ],
   "source": [
    "#feature selection\n",
    "fsel=Pipeline([(\"skb\",skb),(\"pca\",pca)])\n",
    "fn_X=fsel.fit_transform(n_X,y)\n",
    "fn_X,fn_y,_=linearsvc_outlier_rm(fn_X,y)\n",
    "fn_X=scale(fn_X)\n",
    "calc_score(fn_X,fn_y,lvc)"
   ]
  },
  {
   "cell_type": "markdown",
   "metadata": {},
   "source": [
    "### Best availabe result\n",
    "Use feature selection, without outlier removal using LinearSVC. Just remove data entries *TOTAL* and another one with all NaN. Then combine PCA components and SelectKBest"
   ]
  },
  {
   "cell_type": "code",
   "execution_count": 44,
   "metadata": {
    "collapsed": false
   },
   "outputs": [
    {
     "name": "stdout",
     "output_type": "stream",
     "text": [
      "precision: 0.3970315398886827\n",
      "recall: 0.428\n",
      "f1: 0.41193455245428295\n"
     ]
    }
   ],
   "source": [
    "fsl=FeatureSel(k_best=10,pca_comp=10)\n",
    "ppl=Pipeline([(\"fsl\",fsl),(\"sd\",sd),(\"lvc\",LinearSVC(C=0.000001,tol=0.0000001))])\n",
    "calc_score(n_X,y,ppl)"
   ]
  },
  {
   "cell_type": "markdown",
   "metadata": {},
   "source": [
    "Other reults that uses ```FeatureSel()``` class"
   ]
  },
  {
   "cell_type": "code",
   "execution_count": 45,
   "metadata": {
    "collapsed": false
   },
   "outputs": [
    {
     "name": "stdout",
     "output_type": "stream",
     "text": [
      "precision: 0.30484627410109433\n",
      "recall: 0.2925\n",
      "f1: 0.29854554733350347\n"
     ]
    }
   ],
   "source": [
    "fsl=FeatureSel(k_best=10,pca_comp=10)\n",
    "ppl=Pipeline([(\"fsl\",fsl),(\"sd\",sd),(\"lvc\",LinearSVC(C=0.000001,tol=0.000001))])\n",
    "calc_score(f_X,f_y,ppl)"
   ]
  },
  {
   "cell_type": "code",
   "execution_count": 46,
   "metadata": {
    "collapsed": false
   },
   "outputs": [
    {
     "name": "stdout",
     "output_type": "stream",
     "text": [
      "precision: 0.3211920529801324\n",
      "recall: 0.291\n",
      "f1: 0.30535152151101785\n"
     ]
    }
   ],
   "source": [
    "fsl=FeatureSel(k_best=10,pca_comp=10)\n",
    "ppl=Pipeline([(\"fsl\",fsl),(\"sd\",sd),(\"lvc\",LinearSVC(C=0.0001,tol=0.01))])\n",
    "calc_score(f_X,f_y,ppl)"
   ]
  },
  {
   "cell_type": "code",
   "execution_count": 47,
   "metadata": {
    "collapsed": false
   },
   "outputs": [
    {
     "name": "stdout",
     "output_type": "stream",
     "text": [
      "precision: 0.26657824933687\n",
      "recall: 0.1005\n",
      "f1: 0.14596949891067537\n"
     ]
    }
   ],
   "source": [
    "ppl=Pipeline([(\"fsl\",fsl),(\"sd\",sd),(\"lvc\",RandomForestClassifier(n_estimators=10,max_features=5))])\n",
    "calc_score(f_X,f_y,ppl)"
   ]
  },
  {
   "cell_type": "code",
   "execution_count": 48,
   "metadata": {
    "collapsed": false
   },
   "outputs": [
    {
     "name": "stdout",
     "output_type": "stream",
     "text": [
      "precision: 0.3428892636312535\n",
      "recall: 0.305\n",
      "f1: 0.32283672929346385\n"
     ]
    }
   ],
   "source": [
    "ppl=Pipeline([(\"fsl\",fsl),(\"sd\",sd),(\"lvc\",GaussianNB())])\n",
    "calc_score(f_X,f_y,ppl)"
   ]
  },
  {
   "cell_type": "code",
   "execution_count": 49,
   "metadata": {
    "collapsed": false
   },
   "outputs": [
    {
     "name": "stdout",
     "output_type": "stream",
     "text": [
      "precision: 0.21592539454806312\n",
      "recall: 0.1505\n",
      "f1: 0.1773718326458456\n"
     ]
    }
   ],
   "source": [
    "ppl=Pipeline([(\"fsl\",fsl),(\"sd\",sd),(\"lvc\",GradientBoostingClassifier())])\n",
    "calc_score(f_X,f_y,ppl)"
   ]
  },
  {
   "cell_type": "code",
   "execution_count": 50,
   "metadata": {
    "collapsed": false
   },
   "outputs": [
    {
     "name": "stdout",
     "output_type": "stream",
     "text": [
      "precision: 0.31758957654723124\n",
      "recall: 0.0975\n",
      "f1: 0.14919663351185922\n"
     ]
    }
   ],
   "source": [
    "ppl=Pipeline([(\"fsl\",fsl),(\"sd\",sd),(\"lvc\",LogisticRegression())])\n",
    "calc_score(f_X,f_y,ppl)"
   ]
  },
  {
   "cell_type": "code",
   "execution_count": 51,
   "metadata": {
    "collapsed": false
   },
   "outputs": [
    {
     "name": "stdout",
     "output_type": "stream",
     "text": [
      "precision: 0.1016949152542373\n",
      "recall: 0.033\n",
      "f1: 0.04983012457531144\n"
     ]
    }
   ],
   "source": [
    "from sklearn.svm import SVC\n",
    "ppl=Pipeline([(\"fsl\",fsl),(\"sd\",sd),(\"lvc\",SVC(C=10))])\n",
    "calc_score(n_X,y,ppl)"
   ]
  },
  {
   "cell_type": "code",
   "execution_count": 52,
   "metadata": {
    "collapsed": false
   },
   "outputs": [
    {
     "name": "stdout",
     "output_type": "stream",
     "text": [
      "precision: 0.1757259865971705\n",
      "recall: 0.118\n",
      "f1: 0.14119054741250375\n"
     ]
    }
   ],
   "source": [
    "from sklearn.ensemble import AdaBoostClassifier\n",
    "ppl=Pipeline([(\"fsl\",fsl),(\"sd\",sd),(\"lvc\",AdaBoostClassifier())])\n",
    "calc_score(f_X,f_y,ppl)"
   ]
  },
  {
   "cell_type": "code",
   "execution_count": null,
   "metadata": {
    "collapsed": true
   },
   "outputs": [],
   "source": []
  }
 ],
 "metadata": {
  "kernelspec": {
   "display_name": "Python 3",
   "language": "python",
   "name": "python3"
  },
  "language_info": {
   "codemirror_mode": {
    "name": "ipython",
    "version": 3
   },
   "file_extension": ".py",
   "mimetype": "text/x-python",
   "name": "python",
   "nbconvert_exporter": "python",
   "pygments_lexer": "ipython3",
   "version": "3.4.2"
  }
 },
 "nbformat": 4,
 "nbformat_minor": 0
}
